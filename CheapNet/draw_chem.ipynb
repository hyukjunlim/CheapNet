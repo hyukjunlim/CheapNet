{
 "cells": [
  {
   "cell_type": "code",
   "execution_count": 18,
   "metadata": {},
   "outputs": [],
   "source": [
    "import os\n",
    "from rdkit import Chem\n",
    "from rdkit.Chem import AllChem\n",
    "from rdkit.Chem.Draw import rdMolDraw2D\n",
    "import numpy as np\n",
    "import cairosvg\n",
    "from rdkit.Chem.Draw import IPythonConsole\n",
    "from rdkit.Chem import rdDepictor\n",
    "d = {0: ((-31.716, -9.043, 13.716), 19), -1: ((-35.883, -9.919, 11.685), 23), 2: ((-31.908, -7.674, 13.321), 16), 3: ((-30.998, -6.757, 13.883), 16), -4: ((-32.729, -6.886, 12.479), 24), -5: ((-34.87, -9.848, 12.639), 7), 6: ((-30.007, -7.1, 14.731), 19), 7: ((-30.728, -9.391, 14.564), 19), 8: ((-29.94, -8.404, 15.006), 19), 9: ((-31.329, -5.519, 13.357), 16), 10: ((-32.388, -5.613, 12.497), 4), 11: ((-32.532, -10.055, 13.212), 19), 12: ((-33.524, -9.905, 12.22), 19), -13: ((-37.207, -9.753, 12.067), 7), -14: ((-37.529, -9.524, 13.391), 7), -15: ((-36.529, -9.485, 14.347), 7), -16: ((-35.2, -9.648, 13.978), 7)}\n",
    "\n",
    "sdf_file = 'data/casf2016/4ih5/4ih5_ligand.sdf'\n",
    "save_path = 'figure/4ih5_hitatt1.png'\n",
    "\n",
    "# mol_supplier = Chem.SDMolSupplier(sdf_file)\n",
    "# mol = next(mol_supplier)\n",
    "\n",
    "with Chem.SDMolSupplier(sdf_file) as suppl:\n",
    "  ms = [x for x in suppl if x is not None]\n",
    "# for m in ms: tmp=AllChem.Compute2DCoords(m)\n",
    "mol = ms[0]\n",
    "tolerance = 1e-3\n",
    "\n",
    "# Extract the 3D coordinates of the atoms in the molecule\n",
    "conf = mol.GetConformer()\n",
    "\n",
    "cluster_colors = [\n",
    "    (1.0, 1.0, 0.0),\n",
    "    (0.0, 0.0, 1.0),\n",
    "    (1.0, 0.0, 0.0),\n",
    "]\n",
    "# Dictionary to map atom indices to cluster membership based on 3D positions\n",
    "atom_colors = {}\n",
    "highlight_atoms = []\n",
    "# Find the cluster membership of each atom based on 3D positions if node >= 0\n",
    "all_cluster_ids = set([cluster_id for node, (_, cluster_id) in d.items() if node >= 0])\n",
    "id = {cluster_id: i for i, cluster_id in enumerate(all_cluster_ids)}\n",
    "for atom in mol.GetAtoms():\n",
    "    pos = conf.GetAtomPosition(atom.GetIdx())\n",
    "    atom_pos = (pos.x, pos.y, pos.z)\n",
    "    \n",
    "    # Find the corresponding cluster membership in position_dict\n",
    "    for node, (dict_pos, cluster_id) in d.items():\n",
    "        if np.allclose(atom_pos, dict_pos, atol=tolerance):\n",
    "            # Color the atom based on the cluster membership\n",
    "            if node >= 0:\n",
    "                highlight_atoms.append(atom.GetIdx())\n",
    "                atom_colors[atom.GetIdx()] = cluster_colors[id[cluster_id]]\n",
    "                # print(f'Atom {atom_idx} belongs to cluster {cluster_id}')\n",
    "            break\n",
    "\n",
    "# Generate 2D coordinates for the molecule\n",
    "AllChem.Compute2DCoords(mol)\n",
    "# smi = Chem.MolToSmiles(mol)\n",
    "# # print(smi)\n",
    "# mol = Chem.MolFromSmiles(smi)\n",
    "# Draw the molecule with highlighted atoms\n",
    "drawer = rdMolDraw2D.MolDraw2DCairo(2000, 2000)\n",
    "drawer.drawOptions().addAtomIndices = True\n",
    "rdMolDraw2D.PrepareAndDrawMolecule(drawer, mol, highlightAtoms=highlight_atoms,\n",
    "                                   highlightAtomColors=atom_colors)\n",
    "drawer.WriteDrawingText(save_path)"
   ]
  },
  {
   "cell_type": "code",
   "execution_count": 3,
   "metadata": {},
   "outputs": [
    {
     "name": "stdout",
     "output_type": "stream",
     "text": [
      "{11: (1.0, 1.0, 0.0), 14: (1.0, 1.0, 0.0), 15: (1.0, 1.0, 0.0), 13: (1.0, 0.0, 0.0), 16: (0.0, 0.0, 1.0), 0: (0.0, 0.0, 1.0), 1: (0.0, 0.0, 1.0), 2: (0.0, 0.0, 1.0), 3: (0.0, 0.0, 1.0), 4: (0.0, 0.0, 1.0)}\n"
     ]
    },
    {
     "data": {
      "image/png": "[encoded data removed]",
      "text/plain": [
       "<rdkit.Chem.rdchem.Mol at 0x7f4ec66ebc80>"
      ]
     },
     "execution_count": 3,
     "metadata": {},
     "output_type": "execute_result"
    }
   ],
   "source": [
    "import os\n",
    "from rdkit import Chem\n",
    "from rdkit.Chem import AllChem\n",
    "from rdkit.Chem.Draw import rdMolDraw2D\n",
    "import numpy as np\n",
    "import cairosvg\n",
    "from rdkit.Chem.Draw import IPythonConsole\n",
    "from rdkit.Chem import rdDepictor\n",
    "d = {0: ((-31.716, -9.043, 13.716), 19), -1: ((-35.883, -9.919, 11.685), 23), 2: ((-31.908, -7.674, 13.321), 16), 3: ((-30.998, -6.757, 13.883), 16), -4: ((-32.729, -6.886, 12.479), 24), -5: ((-34.87, -9.848, 12.639), 7), 6: ((-30.007, -7.1, 14.731), 19), 7: ((-30.728, -9.391, 14.564), 19), 8: ((-29.94, -8.404, 15.006), 19), 9: ((-31.329, -5.519, 13.357), 16), 10: ((-32.388, -5.613, 12.497), 4), 11: ((-32.532, -10.055, 13.212), 19), 12: ((-33.524, -9.905, 12.22), 19), -13: ((-37.207, -9.753, 12.067), 7), -14: ((-37.529, -9.524, 13.391), 7), -15: ((-36.529, -9.485, 14.347), 7), -16: ((-35.2, -9.648, 13.978), 7)}\n",
    "\n",
    "sdf_file = 'data/casf2016/4ih5/4ih5_ligand.sdf'\n",
    "save_path = 'figure/4ih5_hitatt.png'\n",
    "\n",
    "# mol_supplier = Chem.SDMolSupplier(sdf_file)\n",
    "# mol = next(mol_supplier)\n",
    "\n",
    "with Chem.SDMolSupplier(sdf_file) as suppl:\n",
    "  ms = [x for x in suppl if x is not None]\n",
    "# for m in ms: tmp=AllChem.Compute2DCoords(m)\n",
    "mol = ms[0]\n",
    "tolerance = 1e-3\n",
    "\n",
    "# Extract the 3D coordinates of the atoms in the molecule\n",
    "conf = mol.GetConformer()\n",
    "\n",
    "cluster_colors = [\n",
    "    (1.0, 1.0, 0.0),\n",
    "    (0.0, 0.0, 1.0),\n",
    "    (1.0, 0.0, 0.0),\n",
    "]\n",
    "atom_color = [0, 0, 0, 2, 1, 1, 1, 1, 1, 1]\n",
    "highlight_atoms = [11, 14, 15, 13, 16, 0, 1, 2, 3, 4]\n",
    "\n",
    "# atom_color = [2, 2, 0, 0, 0, 0, 0, 2, 0, 2, 0, 0, 0, 2, 2, 0, 0, 0, 1]\n",
    "# highlight_atoms = [1, 3, 4, 5, 9, 10, 11, 12, 13, 18, 29, 30, 31, 32, 43, 45, 46, 49, 42]\n",
    "atom_colors = {highlight_atoms[i]:cluster_colors[atom_color[i]] for i in range(len(highlight_atoms))}\n",
    "print(atom_colors)\n",
    "\n",
    "\n",
    "# Generate 2D coordinates for the molecule\n",
    "AllChem.Compute2DCoords(mol)\n",
    "smi = Chem.MolToSmiles(mol)\n",
    "# # print(smi)\n",
    "mol = Chem.MolFromSmiles(smi)\n",
    "# Draw the molecule with highlighted atoms\n",
    "drawer = rdMolDraw2D.MolDraw2DCairo(2000, 2000)\n",
    "# drawer.drawOptions().addAtomIndices = True\n",
    "rdMolDraw2D.PrepareAndDrawMolecule(drawer, mol, highlightAtoms=highlight_atoms, highlightAtomColors=atom_colors)\n",
    "drawer.WriteDrawingText(save_path)\n",
    "mol"
   ]
  },
  {
   "cell_type": "code",
   "execution_count": null,
   "metadata": {},
   "outputs": [],
   "source": []
  }
 ],
 "metadata": {
  "kernelspec": {
   "display_name": "Python 3",
   "language": "python",
   "name": "python3"
  },
  "language_info": {
   "codemirror_mode": {
    "name": "ipython",
    "version": 3
   },
   "file_extension": ".py",
   "mimetype": "text/x-python",
   "name": "python",
   "nbconvert_exporter": "python",
   "pygments_lexer": "ipython3",
   "version": "3.8.18"
  }
 },
 "nbformat": 4,
 "nbformat_minor": 2
}
